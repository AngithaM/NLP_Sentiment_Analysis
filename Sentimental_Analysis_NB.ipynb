{
 "cells": [
  {
   "cell_type": "markdown",
   "id": "d4015eac-c0f8-48cb-9d29-524656585662",
   "metadata": {},
   "source": [
    "## Task 1: Reading Data\n",
    "\n",
    "The following cell of code reads the texts and the corresponding labels of suggestion/non-suggestion from the CSV file. The first task is to create training and test sets. Use the final $1000$ rows of the data as a test set and the rest of the data for training."
   ]
  },
  {
   "cell_type": "code",
   "execution_count": 1,
   "id": "9d97d301-e8f1-4698-925b-920f28d533e0",
   "metadata": {},
   "outputs": [
    {
     "name": "stdout",
     "output_type": "stream",
     "text": [
      "[('\"Warning 4668 is an extra one we have enabled beyond warning level 4.\"', 0), ('\"Make it possible to optionally declare a function OnClick() for live tiles, such that this code is executed when the live tiles is presed without leaving the home screen.\"', 1)]\n"
     ]
    }
   ],
   "source": [
    "import numpy as np\n",
    "import pandas as pd\n",
    "\n",
    "# Read the CSV file.\n",
    "df = pd.read_csv('Data.Assignment2.SemEvalTask9SubtaskA.csv', \n",
    "                 names=['id', 'text', 'label'], header=0)\n",
    "\n",
    "# Set seed for reproducibility and shuffle the rows.\n",
    "np.random.seed(888)\n",
    "df = df.sample(frac=1).reset_index(drop=True)\n",
    "\n",
    "# Store the data as a list of tuples where the first item is the text\n",
    "# and the second item is the label.\n",
    "data = [(text, label) for (idx, text, label) in df.values.tolist()]\n",
    "print(data[:2])\n",
    "# Create training and test sets.\n",
    "train_texts, train_labels = [], []\n",
    "test_texts, test_labels = [], []\n",
    "\n",
    "#################### EDIT BELOW THIS LINE #########################\n",
    "#iterating over all the rows except for the last 1000 rows\n",
    "for d in data[:-1000]:\n",
    "    #creating a list of training data\n",
    "    train_texts.append(d[0])\n",
    "    #creating a list of training labels\n",
    "    train_labels.append(d[1])\n",
    "    #iterating over the last 1000 rows\n",
    "for d in data[-1000:]:\n",
    "    #using the last 1000 rows to create test data\n",
    "    test_texts.append(d[0])\n",
    "    #using the last 1000 rows to create labels\n",
    "    test_labels.append(d[1])\n",
    "\n",
    "#################### EDIT ABOVE THIS LINE #########################\n",
    "\n",
    "# Check that training set and test set are of the right size.\n",
    "assert len(test_texts) == len(test_labels) == 1000\n",
    "assert len(train_texts) == len(train_labels) == 5100"
   ]
  },
  {
   "cell_type": "markdown",
   "id": "2156dc77-b67c-4f07-8138-9701b1c7fb62",
   "metadata": {},
   "source": [
    "## Task 2: Data Pre-processing (30 Marks)\n",
    "\n",
    "Explain at least 3 steps that you will perform to preprocess the texts before training a classifier.\n",
    "\n",
    "Ans:\n",
    "\n",
    "---\n",
    "\n",
    "You cannot simply work with raw data, no matter what machine learning model you’re using, and there is no right way to do pre-processing.  However, there are some general steps that we can follow. \n",
    "The following are the steps taken and the major things taken into consideration:\n",
    "1.\tTokenize the data\n",
    "In this case we can simply split the data with respect to white spaces using sentence.split(“ “). But this would keep the punctuations. We can instead use this and then make use of the translate function to map all the punctuations to “ ” or empty spaces. The approach taken up here is the regex model which allows us to clean up the strings by keeping the alphanumeric characters. We can also use word_tokenize from the nltk library for this.\n",
    "2.\tNormalizing the case\n",
    "By removing case sensitivity, we’ll read ‘Keep’ and ‘keep’ as a single word, thus reducing vocabulary. However, this will also cause us to lose some distinctions eg: name like ‘Cliff’ and ‘cliff’ will be treated the same. Since we do not have a lot of proper nouns, we can use this in our case. Lower() is used for this purpose.\n",
    "3.\tRemove empty strings and digits and stopwords from the text\n",
    "Irrelevant data in the test can be removed to further reduce the vocabulary and keep only the relevant content.\n",
    "4.\tStemmers and lemmatizers\n",
    "There are both used to trim the words, reduce the vocabulary and focus on the meaning of the word, but each work in different ways. Stemmers will not always return a meaningful word, on the other hand lemmatizers always does. So as we move from bag of words approach to word encodings, we might be better off using lemmatizers instead of stemmers. In general, only minimal clean up is required for more sophisticated word encodings like Word2Vec or Glove.\n",
    "\n",
    "---\n",
    "An implementation of the steps you mentioned above. \n",
    "Libraries used:\n",
    "nltk\n"
   ]
  },
  {
   "cell_type": "code",
   "execution_count": 3,
   "id": "8a7a2bb2-57cc-40a2-8b91-47961787d54b",
   "metadata": {},
   "outputs": [],
   "source": [
    "#removing multiple underscores in a single word to make tokenization more meaningful \n",
    "def remove_(text):\n",
    "    empty_str_removed=[]\n",
    "    for sentence in text:\n",
    "        new_sen=sentence.replace('_', ' ');\n",
    "        empty_str_removed.append(new_sen)\n",
    "    return empty_str_removed"
   ]
  },
  {
   "cell_type": "code",
   "execution_count": 4,
   "id": "8a0d9f72-5187-4a71-b5e1-aed4d8784ed9",
   "metadata": {},
   "outputs": [],
   "source": [
    "new_train_texts=remove_(train_texts)\n",
    "new_test_texts=remove_(test_texts)"
   ]
  },
  {
   "cell_type": "code",
   "execution_count": 5,
   "id": "5407fda2-96b9-4669-92aa-ddbb987aaa17",
   "metadata": {},
   "outputs": [],
   "source": [
    "#tokenize using regular expressions\n",
    "import re\n",
    "def tokenize(text):\n",
    "    tokenized_text=[]\n",
    "    for sentence in text:\n",
    "        sentence=re.split(r'\\W+', sentence)\n",
    "        tokenized_text.append(sentence)\n",
    "    return tokenized_text"
   ]
  },
  {
   "cell_type": "code",
   "execution_count": 6,
   "id": "f3d0bf18-8657-4ec2-85d0-930d1a78e3e5",
   "metadata": {},
   "outputs": [],
   "source": [
    "tokenized_text_train=tokenize(new_train_texts)\n",
    "tokenized_text_test=tokenize(new_test_texts)"
   ]
  },
  {
   "cell_type": "code",
   "execution_count": 7,
   "id": "5faecd8a-904d-44cd-b92c-c6f828a895f3",
   "metadata": {},
   "outputs": [],
   "source": [
    "\n",
    "def clean(text):\n",
    "    # remove empty strings\n",
    "    empty_str_removed=[]\n",
    "    for str_list in text:\n",
    "        str_list = list(filter(None, str_list))\n",
    "        empty_str_removed.append(str_list)\n",
    "    #remove digits\n",
    "    no_integers=[]\n",
    "    for str_list in empty_str_removed:\n",
    "        str_list = [strgs for strgs in str_list if not strgs.isdigit()]\n",
    "        no_integers.append(str_list)\n",
    "    # turn to lower case\n",
    "    to_lower=[]\n",
    "    for str_list in no_integers:\n",
    "        str_list = [strgs.lower() for strgs in str_list]\n",
    "        to_lower.append(str_list)\n",
    "    return(to_lower)"
   ]
  },
  {
   "cell_type": "code",
   "execution_count": 8,
   "id": "0388b35b-d9b6-41e2-84d3-b1e0139ac14d",
   "metadata": {},
   "outputs": [],
   "source": [
    "clean_train_text=clean(tokenized_text_train)\n",
    "clean_test_text=clean(tokenized_text_test)\n"
   ]
  },
  {
   "cell_type": "code",
   "execution_count": 2,
   "id": "5c8fc55b-4e96-4d2d-8c87-619fa1f5e7ed",
   "metadata": {},
   "outputs": [],
   "source": [
    "import nltk\n",
    "import numpy as np\n",
    "import pandas as pd\n",
    "from nltk.corpus import stopwords\n",
    "from nltk.stem import WordNetLemmatizer\n",
    "from nltk.stem import PorterStemmer"
   ]
  },
  {
   "cell_type": "code",
   "execution_count": 20,
   "id": "3d74d74d-caca-4906-b59a-556dcbbee550",
   "metadata": {},
   "outputs": [
    {
     "name": "stdout",
     "output_type": "stream",
     "text": [
      "179\n",
      "['me', 'myself', 'our', 'ourselves', \"you're\", \"you'll\", 'your', 'yourself', 'he', 'his', 'she', 'her', 'herself', \"it's\", 'itself', 'them', 'theirs', 'what', 'who', 'this', \"that'll\", 'those', 'is', 'was', 'be', 'being', 'has', 'having', 'does', 'doing', 'an', 'and', 'if', 'because', 'until', 'of', 'by', 'with', 'against', 'into', 'during', 'after', 'below', 'from', 'down', 'out', 'off', 'under', 'further', 'once', 'there', 'where', 'how', 'any', 'each', 'more', 'other', 'such', 'nor', 'only', 'same', 'than', 'very', 't', 'will', 'don', 'should', 'now', 'll', 'o', 've', 'ain', \"aren't\", \"couldn't\", \"didn't\", \"doesn't\", \"hadn't\", \"hasn't\", \"haven't\", \"isn't\", 'mightn', 'mustn', 'needn', 'shan', 'shouldn', 'wasn', 'weren', 'won', 'wouldn']\n",
      "89\n"
     ]
    }
   ],
   "source": [
    "new_stopword=stopwords.words('english')\n",
    "print(len(new_stopword))\n",
    "list_2=['no',\n",
    " 'nor',\n",
    " 'not','about',\n",
    " 'against','ain','aren',\"aren't\",'couldn',\"couldn't\",'didn',\"didn't\",\n",
    " 'doesn',\n",
    " \"doesn't\",\n",
    " 'hadn',\"hadn't\",'hasn',\"hasn't\",\n",
    " 'haven',\n",
    " \"haven't\",\n",
    " 'isn',\n",
    " \"isn't\",\n",
    " 'ma',\n",
    " 'mightn',\n",
    " \"mightn't\",'mustn',\"mustn't\",\n",
    " 'needn',\n",
    " \"needn't\",\n",
    " 'shan',\n",
    " \"shan't\",\n",
    " 'shouldn',\n",
    " \"shouldn't\", \"aren't\", \"couldn't\", \"didn't\", \"doesn't\", \"hadn't\", \"hasn't\", \"haven't\", \"isn't\", 'mightn', 'mustn', 'needn', 'shan', 'shouldn', 'wasn', 'weren', 'won', 'wouldn',\n",
    " 'wasn', \"wasn't\",'weren',\"weren't\",'won',\"won't\",'wouldn',\"wouldn't\",'aren', 'couldn', 'didn', 'doesn', 'hadn', 'hasn', 'haven', 'isn', 'ma', \"mightn't\", \"mustn't\", \"needn't\", \"shan't\", \"shouldn't\", \"wasn't\", \"weren't\", \"won't\", \"wouldn't\",'don', \"don't\", 'should', \"should've\"\n",
    "]\n",
    "for element in new_stopword:\n",
    "    if element in new_stopword:\n",
    "        new_stopword.remove(element)\n",
    "print(new_stopword)\n",
    "print(len(new_stopword))\n"
   ]
  },
  {
   "cell_type": "code",
   "execution_count": 21,
   "id": "ce3c67ac-7c90-43e4-b36d-584ce6b4e060",
   "metadata": {},
   "outputs": [],
   "source": [
    "#remove comman and irrelevant words\n",
    "def remove_stopwords(text):\n",
    "    removed_stopwords=[]\n",
    "    for str_list in text:\n",
    "        filtered_words = [word for word in str_list if word not in new_stopword]\n",
    "        removed_stopwords.append(filtered_words)\n",
    "    return removed_stopwords"
   ]
  },
  {
   "cell_type": "code",
   "execution_count": 22,
   "id": "d13c6005-7255-46f4-99c3-3658432754d3",
   "metadata": {},
   "outputs": [],
   "source": [
    "noStop_train_text=remove_stopwords(clean_train_text)\n",
    "noStop_test_text=remove_stopwords(clean_test_text)"
   ]
  },
  {
   "cell_type": "code",
   "execution_count": 23,
   "id": "196e9d82-a8c7-4ff4-8af7-998f8a1c3962",
   "metadata": {},
   "outputs": [],
   "source": [
    "#trims the word to a meaningful word\n",
    "def lemmatizer(text):\n",
    "    filtered_words_lemmatize=[]\n",
    "    lemmatizer = WordNetLemmatizer()\n",
    "    for str_list in text:\n",
    "        filtered_words = [lemmatizer.lemmatize(word) for word in str_list]\n",
    "        filtered_words_lemmatize.append(filtered_words)\n",
    "    return filtered_words_lemmatize"
   ]
  },
  {
   "cell_type": "code",
   "execution_count": 24,
   "id": "d8cdcaee-9cf9-4c73-9b81-388eb0c424d2",
   "metadata": {},
   "outputs": [],
   "source": [
    "lemmatize_train_text=lemmatizer(noStop_train_text)\n",
    "lemmatize_test_text=lemmatizer(noStop_test_text)"
   ]
  },
  {
   "cell_type": "code",
   "execution_count": 25,
   "id": "e9a5c1e5-ef2f-4181-845f-8dea0661ea5a",
   "metadata": {},
   "outputs": [],
   "source": [
    "#cuts the word to it's root. But often forms meaningless words\n",
    "def stemmer(text):   \n",
    "    ps = PorterStemmer()\n",
    "    test_filtered_words_stem=[]\n",
    "    for str_list in text:\n",
    "        filtered_words = [ps.stem(word) for word in str_list]\n",
    "        test_filtered_words_stem.append(filtered_words)\n",
    "    return test_filtered_words_stem"
   ]
  },
  {
   "cell_type": "code",
   "execution_count": 26,
   "id": "edc69437-625a-4adc-b19e-27070faa4a98",
   "metadata": {},
   "outputs": [],
   "source": [
    "#stemmers not used in either of the models. However, it maybe used for tf-idf. \n",
    "#This was tested and the results were more or less the same.\n",
    "stemmed_train_text=stemmer(lemmatize_train_text)\n",
    "stemmed_test_text=stemmer(lemmatize_test_text)"
   ]
  },
  {
   "cell_type": "code",
   "execution_count": 28,
   "id": "a499cb61-4c7a-4b66-ba3e-7d6fb013f373",
   "metadata": {},
   "outputs": [],
   "source": [
    " def join(text):\n",
    "    test_list_joined=[]\n",
    "    for str_list in text:\n",
    "        str=' '.join(str_list)\n",
    "        test_list_joined.append(str)\n",
    "    return test_list_joined"
   ]
  },
  {
   "cell_type": "code",
   "execution_count": 29,
   "id": "f586e8ce-6c4a-463d-b56f-58c67bdab550",
   "metadata": {},
   "outputs": [],
   "source": [
    "join_train_text=join(lemmatize_train_text)\n",
    "join_test_text=join(lemmatize_test_text)"
   ]
  },
  {
   "cell_type": "markdown",
   "id": "ea8462d7-6a1c-4731-a6e1-98ae56ebad03",
   "metadata": {},
   "source": [
    "## Task 3: Feature Engineering (I) - TF-IDF as features "
   ]
  },
  {
   "cell_type": "code",
   "execution_count": 30,
   "id": "9f0bb704-bce4-4ecc-8592-981583d03cf0",
   "metadata": {},
   "outputs": [],
   "source": [
    "from sklearn.feature_extraction.text import CountVectorizer\n",
    "from sklearn.feature_extraction.text import TfidfTransformer\n"
   ]
  },
  {
   "cell_type": "code",
   "execution_count": 31,
   "id": "0350ffe2-4cfe-48ac-a152-ebfb8d53df65",
   "metadata": {},
   "outputs": [],
   "source": [
    " def tfidf_converter(list_train,list_test):\n",
    "    #determines the number of features for this test set\n",
    "    cv = CountVectorizer()\n",
    "    #creates a collection of tokens for the model to use\n",
    "    word_count_vector = cv.fit_transform(list_train)\n",
    "    #convert to a useable dataframe\n",
    "    tf = pd.DataFrame(word_count_vector.toarray(), columns=cv.get_feature_names())\n",
    "    tfidf_transformer = TfidfTransformer()\n",
    "    #fir and transfor the training set according to the features set\n",
    "    X = tfidf_transformer.fit_transform(word_count_vector)\n",
    "    idf = pd.DataFrame({'feature_name':cv.get_feature_names(), 'idf_weights':tfidf_transformer.idf_})\n",
    "    #only transform and not fit the test set to create vectors with the same number of features as \n",
    "    #earlier defined\n",
    "    test_word_count_vector = cv.transform(list_test)\n",
    "    test_tf = pd.DataFrame(test_word_count_vector.toarray(), columns=cv.get_feature_names())\n",
    "    #the test set is transformed\n",
    "    X_test = tfidf_transformer.transform(test_word_count_vector)\n",
    "    return X.toarray(),X_test.toarray()"
   ]
  },
  {
   "cell_type": "code",
   "execution_count": 32,
   "id": "8a2abc4f-b1cf-4899-883d-2b879b44f627",
   "metadata": {},
   "outputs": [],
   "source": [
    "X,X_test=tfidf_converter(join_train_text,join_test_text)"
   ]
  },
  {
   "cell_type": "code",
   "execution_count": 33,
   "id": "32c6fdfc-a13f-41e1-9183-7c058079789b",
   "metadata": {},
   "outputs": [],
   "source": [
    "from sklearn.naive_bayes import GaussianNB\n"
   ]
  },
  {
   "cell_type": "code",
   "execution_count": 34,
   "id": "ddb48409-7772-4c00-92ab-5872349aad49",
   "metadata": {},
   "outputs": [],
   "source": [
    "def GaussianNB_predict(X,X_test):\n",
    "    gnb_predicted_test = []# save your predictions on the test set into this list\n",
    "    gnb_predicted_train=[]# to check for underfitting and overfitting\n",
    "    y=train_labels\n",
    "    y_test=test_labels\n",
    "    gb = GaussianNB(var_smoothing=0.075) # naive_bayes model is created\n",
    "    gb.fit(X, y) # data is fited with training data\n",
    "    gnb_predicted_test=gb.predict(X_test) # prediction made on test data\n",
    "    gnb_predicted_train=gb.predict(X)     # training data is also tested\n",
    "    return gb,gnb_predicted_test,gnb_predicted_train"
   ]
  },
  {
   "cell_type": "code",
   "execution_count": 35,
   "id": "5d11bafd-f1dc-4e7c-b6ad-1aa732f21608",
   "metadata": {},
   "outputs": [],
   "source": [
    "gb,gnb_predicted_test,gnb_predicted_train=GaussianNB_predict(X,X_test)"
   ]
  },
  {
   "cell_type": "code",
   "execution_count": 36,
   "id": "568581ff-88ff-48f6-8ef8-eb1cda940917",
   "metadata": {},
   "outputs": [],
   "source": [
    "def accuracy(labels, predictions):\n",
    "  '''\n",
    "  Calculate the accuracy score for a given set of predictions and labels.\n",
    "  \n",
    "  Args:\n",
    "    labels (list): A list containing gold standard labels annotated as `0` and `1`.\n",
    "    predictions (list): A list containing predictions annotated as `0` and `1`.\n",
    "\n",
    "  Returns:\n",
    "    float: A floating point value to score the predictions against the labels.\n",
    "  '''\n",
    "  assert len(labels) == len(predictions)\n",
    "  \n",
    "  correct = 0\n",
    "  for label, prediction in zip(labels, predictions):\n",
    "    if label == prediction:\n",
    "      correct += 1 \n",
    "  \n",
    "  score = correct / len(labels)\n",
    "  return score\n",
    "\n"
   ]
  },
  {
   "cell_type": "code",
   "execution_count": 37,
   "id": "0e55e7f7-9f1a-402d-b493-6d353ca1940f",
   "metadata": {},
   "outputs": [
    {
     "name": "stdout",
     "output_type": "stream",
     "text": [
      "0.644\n",
      "0.7864705882352941\n"
     ]
    }
   ],
   "source": [
    "y=train_labels\n",
    "y_test=test_labels\n",
    "print(accuracy(y_test, gnb_predicted_test))\n",
    "print(accuracy(y, gnb_predicted_train))"
   ]
  },
  {
   "cell_type": "markdown",
   "id": "80ac1cd0-1b0c-46b4-86f0-dcc3279d6c1c",
   "metadata": {},
   "source": [
    "## Task 4: Evaluation Metrics "
   ]
  },
  {
   "cell_type": "markdown",
   "id": "a681e09a-06b0-4708-a9b1-9c5992c92914",
   "metadata": {},
   "source": [
    "Why is accuracy not the best measure for evaluating a classifier? Describe an evaluation metric which might work better than accuracy for a classification task such as suggestion detection.\n"
   ]
  },
  {
   "cell_type": "code",
   "execution_count": 38,
   "id": "b34f79bd-fdb5-46b3-bd6d-8262b3edd54e",
   "metadata": {},
   "outputs": [
    {
     "name": "stdout",
     "output_type": "stream",
     "text": [
      "4015\n",
      "6100\n",
      "2085\n"
     ]
    }
   ],
   "source": [
    "#entire model class distribution\n",
    "labels=test_labels+train_labels\n",
    "print(labels.count(0))\n",
    "print(len(labels))\n",
    "print(labels.count(1))\n"
   ]
  },
  {
   "cell_type": "code",
   "execution_count": 39,
   "id": "eaa024f2-98c2-4d02-b3b8-e738c1dbde43",
   "metadata": {},
   "outputs": [
    {
     "name": "stdout",
     "output_type": "stream",
     "text": [
      "648\n",
      "1000\n",
      "352\n"
     ]
    }
   ],
   "source": [
    "#test label class distribution\n",
    "print(test_labels.count(0))\n",
    "print(len(test_labels))\n",
    "print(test_labels.count(1))"
   ]
  },
  {
   "cell_type": "markdown",
   "id": "e0cdbac7-951a-4a4c-8deb-923f15eda3a2",
   "metadata": {},
   "source": [
    "\n",
    "---\n",
    "When we check the count of each of the distinct labels, we can see that this problem is not balanced with this data. The cases with 0 as the label is almost twice that of 1! So we clearly have a majority class and a minority class. Now if we create a classifier that predits 0 at all times, it will still have a high accuracy rate.(In this case .648 as observed from the test label class distribution). That is why accuracy is not a good way to evaluate the classifier in this case.\n",
    "\n",
    "Better Evaluation Metrics:\n",
    "    Precision-Recall Metrics\n",
    "Precision : Rate of the true positives. Tells us how well the positive classes are predicted.\n",
    "    Precision = TruePositive / (TruePositive + FalseNegative)\n",
    "\n",
    "Recall: Rate of the true negatives. This tells us how well the negative classes are predicted.\n",
    "    Recall = TrueNegative / (FalsePositive + TrueNegative)\n",
    "In this case, precision might be more useful as it will tell you how many were correctly classified.\n",
    "The combination of precision and recal to balance both concerns is the F-score. \n",
    "\n",
    "Confusion Matrix as we know will be really helpful as it gives you the data about true positive and true negatives.\n",
    "\n",
    "All these are better metrics when compared to accuracy and should be used here.\n",
    "ROC Area Under Curve or Precision-Recall Area Under Curve can be used for severely imbalanced problem.\n",
    "\n",
    "(Not under the scope with the current word limit)\n",
    "\n",
    "\n",
    "---"
   ]
  },
  {
   "cell_type": "code",
   "execution_count": 40,
   "id": "fc5b9a80-95be-4d8c-ad1f-36a62a7e8085",
   "metadata": {},
   "outputs": [],
   "source": [
    "from sklearn.metrics import accuracy_score,f1_score,precision_score,recall_score"
   ]
  },
  {
   "cell_type": "code",
   "execution_count": 41,
   "id": "de1d37c3-57da-4dfd-a9e5-2da0a7c0113b",
   "metadata": {},
   "outputs": [],
   "source": [
    "def evaluate_metrics(y,y_test,pred_train,pred_test):\n",
    "    print('Accuracy of test data: %.3f' % accuracy(y_test, pred_test))\n",
    "    # train data is also evaluated to understand underfitting and overfitting.\n",
    "    #Since the accuracy of training data is high, overfitting is very likely\n",
    "    print('Accuracy of train data: %.3f' % accuracy(y, pred_train)) \n",
    "\n",
    "    print('Precision of test data: %.3f' % precision_score(y_test, pred_test))\n",
    "\n",
    "    print('Recall of test data: %.3f' % recall_score(y_test, pred_test))\n",
    "\n",
    "    print('f1_score of test data: %.3f' % f1_score(y_test, pred_test))\n"
   ]
  },
  {
   "cell_type": "code",
   "execution_count": 42,
   "id": "2a06596e-d22f-458b-95f4-c30824fa51f1",
   "metadata": {},
   "outputs": [
    {
     "name": "stdout",
     "output_type": "stream",
     "text": [
      "Accuracy of test data: 0.644\n",
      "Accuracy of train data: 0.786\n",
      "Precision of test data: 0.497\n",
      "Recall of test data: 0.832\n",
      "f1_score of test data: 0.622\n"
     ]
    }
   ],
   "source": [
    "evaluate_metrics(y,y_test,gnb_predicted_train,gnb_predicted_test)"
   ]
  },
  {
   "cell_type": "code",
   "execution_count": 43,
   "id": "be8390e8-c036-4991-80dd-2b2bf5ae72ee",
   "metadata": {},
   "outputs": [],
   "source": [
    "from sklearn.metrics import confusion_matrix\n",
    "from sklearn.metrics import plot_confusion_matrix\n",
    "import matplotlib.pyplot as plt\n"
   ]
  },
  {
   "cell_type": "code",
   "execution_count": 44,
   "id": "098f2879-5043-461e-afc0-828f44dbf30d",
   "metadata": {},
   "outputs": [],
   "source": [
    "#Confusion Matrix as we know will be really helpful as it gives you the data about true positive and true negatives.\n",
    "\n",
    "def confusion_matrix_plot(y,X,model):\n",
    "    plot_confusion_matrix(model, X, y)\n",
    "    plt.show()"
   ]
  },
  {
   "cell_type": "code",
   "execution_count": 45,
   "id": "9c4742d2-343e-4d3b-9a3a-c9c11777ce6e",
   "metadata": {},
   "outputs": [
    {
     "data": {
      "image/png": "[encoded data removed]",
      "text/plain": [
       "<Figure size 432x288 with 2 Axes>"
      ]
     },
     "metadata": {
      "needs_background": "light"
     },
     "output_type": "display_data"
    }
   ],
   "source": [
    "confusion_matrix_plot(y,X,gb)\n",
    "\n",
    "#we can see why the recall of the train set is 1 looking at the confusion matrix below\n",
    "#The label predicts 1 more than 0. This is considering the majority class is 0"
   ]
  },
  {
   "cell_type": "code",
   "execution_count": 46,
   "id": "6404af62-bcd8-41c2-b631-da3c2d82f404",
   "metadata": {},
   "outputs": [
    {
     "data": {
      "image/png": "[encoded data removed]",
      "text/plain": [
       "<Figure size 432x288 with 2 Axes>"
      ]
     },
     "metadata": {
      "needs_background": "light"
     },
     "output_type": "display_data"
    }
   ],
   "source": [
    "confusion_matrix_plot(y_test,X_test,gb)\n"
   ]
  },
  {
   "cell_type": "markdown",
   "id": "0e3c001b-c697-4d75-a391-b27f129caf7b",
   "metadata": {},
   "source": [
    "# Task 5: Feature Engineering (II) - Other features"
   ]
  },
  {
   "cell_type": "raw",
   "id": "96dc30e0-946e-4599-a8e9-671375caa5f6",
   "metadata": {},
   "source": [
    "Describe features other than those defined in Task 3 which might improve the performance of your suggestion detector. If these features require any additional pre-processing steps, then define those steps as well."
   ]
  },
  {
   "cell_type": "raw",
   "id": "ce266f5d-83f0-4869-ab03-b6c6b1ad26f9",
   "metadata": {},
   "source": [
    "---\n",
    "\n",
    "Word embedding is a feature that can help with sentimental analysis as it can help identify the semantic relation ship between words. Here we’re discarding the bag of words approach used in TF_IDF. Normal encodings like one-hot encoding can end up with very high dimensionality vectors, and they will not account for semantics. This is where word embedding comes in. Here each word is given a position in a multi-dimensional space, the number of dimensions is our choice. This position is represented by a dense vector that corresponds to it’s meaning or semantics within the training text.\n",
    "I have used 300 dimensions to try improve the performance. This can be changed to 25d, 50d, 100d, 200d etc in Glove. You can also create your own word embedding using the vocabulary from the dataset. This, however, will not give as good a performance as pre-trained ones like Glove or Word2Vec. This is because the limited vocabulary will not allow the training model to learn properly and understand the relative meanings. (Here the code for word embedding used is mostly taken from the exercise sheet for Lab8.) Each word will correspond to a 300 dimension vector this is then applied to find the vector corresponding to an entire sentence by finding it’s mean. It is this vector that is trained and used for predictions. \n",
    "Pre-processing for word embeddings:\n",
    "Since word embeddings have semantics included in them, very little pre-processing is required like removing stop-words, punctuations and lemmatization. Lemmatization is used only to reduce the complexity since the variations in spellings, case and grammar will be captures and similar words will occupy close positions . Stemming should not be done in this case as it could generate meaningless word that will not be included in the pre-trained word list. If you’re not using pre-trained vectors, but rather creating your own, stemming might still be okay.\n",
    "Since the evaluation metrics still yields low values, we can try to combine features by stacking them together. So, in this case we combine tf-idf and word embedding together and  the model is trained again. The result is slightly better due to more number of features. \n",
    "We can also try altering the dimensions from 300d to 200 d and 100 d or increase it. Another model is the 2-gram or n-gram model which means taking 2-consecutive/n-consecutive words together and using them as building blocks for our model.\n",
    "We can also use a variation of Naive Bayes like the Multinomial Naive Bayes which uses a probabilistic learning method \n",
    "But due to the imbalanced data, the performance is not as good as can be expected.\n",
    "\n",
    "---"
   ]
  },
  {
   "cell_type": "code",
   "execution_count": 47,
   "id": "62bc4135-4cba-4f6e-bc99-60db9243d043",
   "metadata": {},
   "outputs": [
    {
     "name": "stderr",
     "output_type": "stream",
     "text": [
      "[nltk_data] Downloading package punkt to\n",
      "[nltk_data]     C:\\Users\\angit\\AppData\\Roaming\\nltk_data...\n",
      "[nltk_data]   Package punkt is already up-to-date!\n"
     ]
    },
    {
     "data": {
      "text/plain": [
       "True"
      ]
     },
     "execution_count": 47,
     "metadata": {},
     "output_type": "execute_result"
    }
   ],
   "source": [
    "import nltk\n",
    "nltk.download('punkt')\n"
   ]
  },
  {
   "cell_type": "code",
   "execution_count": 48,
   "id": "fd696554-73f8-4860-89f3-6f55edf69c85",
   "metadata": {},
   "outputs": [
    {
     "name": "stdout",
     "output_type": "stream",
     "text": [
      "Requirement already satisfied: gensim in c:\\users\\angit\\anaconda3\\lib\\site-packages (4.1.2)\n",
      "Requirement already satisfied: scipy>=0.18.1 in c:\\users\\angit\\anaconda3\\lib\\site-packages (from gensim) (1.6.2)\n",
      "Requirement already satisfied: numpy>=1.17.0 in c:\\users\\angit\\anaconda3\\lib\\site-packages (from gensim) (1.20.1)\n",
      "Requirement already satisfied: smart-open>=1.8.1 in c:\\users\\angit\\anaconda3\\lib\\site-packages (from gensim) (5.2.1)\n",
      "Requirement already satisfied: Cython==0.29.23 in c:\\users\\angit\\anaconda3\\lib\\site-packages (from gensim) (0.29.23)\n",
      "Note: you may need to restart the kernel to use updated packages.\n"
     ]
    }
   ],
   "source": [
    "pip install -U gensim"
   ]
  },
  {
   "cell_type": "code",
   "execution_count": 49,
   "id": "5ea48b8a-86ce-4999-9286-721f3ad38f5b",
   "metadata": {},
   "outputs": [
    {
     "name": "stdout",
     "output_type": "stream",
     "text": [
      "downloading glove embeddings. please note this may take a few minutes\n",
      "finished downloading glove\n"
     ]
    }
   ],
   "source": [
    "# code taken from Exercise sheet 8 and modified for this task\n",
    "\n",
    "import gensim.downloader as api\n",
    "print(\"downloading glove embeddings. please note this may take a few minutes\")\n",
    "glove = api.load('glove-wiki-gigaword-300')\n",
    "print(\"finished downloading glove\")"
   ]
  },
  {
   "cell_type": "code",
   "execution_count": 50,
   "id": "eb456c5c-59f6-4897-a317-38fa3a3bd75a",
   "metadata": {},
   "outputs": [
    {
     "name": "stdout",
     "output_type": "stream",
     "text": [
      "5100\n",
      "1000\n"
     ]
    }
   ],
   "source": [
    "print(len(lemmatize_train_text))\n",
    "print(len(lemmatize_test_text))"
   ]
  },
  {
   "cell_type": "code",
   "execution_count": 51,
   "id": "b659118e-4d9b-48f9-8e7d-7bb114dd802c",
   "metadata": {},
   "outputs": [],
   "source": [
    "# code taken from Exercise sheet 8 and modified for this task\n",
    "def vectorize(text):\n",
    "    all_text_vecs = []\n",
    "    oov = np.random.rand(1,300) # random vector to represent out-of-vocab\n",
    "\n",
    "    # 1. Loop over text toks. \n",
    "    for toks in text:\n",
    "      train_vecs = []\n",
    "\n",
    "      # 2. Loop over each word in the tokenzed input\n",
    "      for tok in toks:\n",
    "        # If token exists glove, add its embedding to text_vecs\n",
    "        if tok in glove:\n",
    "          train_vecs.append(glove[tok])\n",
    "\n",
    "      # 3. Once you extracted all the word embedding for the input\n",
    "      # append text_vecs to all_text_vecs in the else condition \n",
    "      if train_vecs == []:\n",
    "        # special case where list is empty and no word embeddings were found\n",
    "        all_text_vecs.append(oov)\n",
    "      else:\n",
    "        all_text_vecs.append(train_vecs)\n",
    "    \n",
    "    print(\"finished\")\n",
    "    print(f\"Check length of all_text_vecs == length of text toks: {len(all_text_vecs)==len(text)}\")\n",
    "    return all_text_vecs"
   ]
  },
  {
   "cell_type": "code",
   "execution_count": 55,
   "id": "4faffafe-0993-4ed4-b82c-5d98f61e47bc",
   "metadata": {},
   "outputs": [
    {
     "name": "stdout",
     "output_type": "stream",
     "text": [
      "finished\n",
      "Check length of all_text_vecs == length of text toks: True\n",
      "finished\n",
      "Check length of all_text_vecs == length of text toks: True\n"
     ]
    }
   ],
   "source": [
    "vec_test=vectorize(lemmatize_test_text)\n",
    "vec_train=vectorize(lemmatize_train_text)\n"
   ]
  },
  {
   "cell_type": "code",
   "execution_count": 53,
   "id": "3e57f1b4-9385-4f1b-8da9-0ad90baeb0d2",
   "metadata": {},
   "outputs": [],
   "source": [
    "def mean_vec(all_text_vecs):\n",
    "    all_pooled_vecs = []\n",
    "\n",
    "    # 1. Loop over each list of word embeddings per input\n",
    "    for text_vecs in all_text_vecs:\n",
    "      # 2. Vstack and take the mean of the tex vecs\n",
    "      mean_pool = np.mean(np.vstack(text_vecs), axis=0)\n",
    "\n",
    "      # 3. Append the mean pooled vector to all_pooled_vecs\n",
    "      all_pooled_vecs.append(mean_pool)\n",
    "\n",
    "    # 4 Update dataset with these pooled vectors\n",
    "    print(len(all_pooled_vecs))\n",
    "    print(\"finished\")\n",
    "    print(f\"sanity check {len(all_pooled_vecs) == len(all_text_vecs)}\")\n",
    "    print(f\"sanity check {np.vstack(all_pooled_vecs).shape[1] == 300}\")\n",
    "    return all_pooled_vecs"
   ]
  },
  {
   "cell_type": "code",
   "execution_count": 56,
   "id": "5515c5be-2cd3-4663-b544-ed84556b2e4f",
   "metadata": {},
   "outputs": [
    {
     "name": "stdout",
     "output_type": "stream",
     "text": [
      "1000\n",
      "finished\n",
      "sanity check True\n",
      "sanity check True\n",
      "5100\n",
      "finished\n",
      "sanity check True\n",
      "sanity check True\n"
     ]
    }
   ],
   "source": [
    "X_vec_mean_test=mean_vec(vec_test)\n",
    "X_vec_mean_train=mean_vec(vec_train)\n"
   ]
  },
  {
   "cell_type": "code",
   "execution_count": 57,
   "id": "0bf38af9-6659-4c22-9c7f-8fb7ba3fa183",
   "metadata": {},
   "outputs": [],
   "source": [
    "gb1,gnb_pred_vec_test,gnb_pred_vec_train=GaussianNB_predict(X_vec_mean_train,X_vec_mean_test)"
   ]
  },
  {
   "cell_type": "code",
   "execution_count": 58,
   "id": "3f8aab51-18da-43c0-9ba8-e3715f23af35",
   "metadata": {},
   "outputs": [
    {
     "name": "stdout",
     "output_type": "stream",
     "text": [
      "Accuracy of test data: 0.456\n",
      "Accuracy of train data: 0.440\n",
      "Precision of test data: 0.390\n",
      "Recall of test data: 0.972\n",
      "f1_score of test data: 0.557\n"
     ]
    }
   ],
   "source": [
    "evaluate_metrics(y,y_test,gnb_pred_vec_train,gnb_pred_vec_test)"
   ]
  },
  {
   "cell_type": "code",
   "execution_count": 59,
   "id": "b23a24f6-18a7-4774-803f-05866dad4cba",
   "metadata": {},
   "outputs": [
    {
     "name": "stdout",
     "output_type": "stream",
     "text": [
      "(5100, 6683)\n",
      "(5100, 300)\n"
     ]
    }
   ],
   "source": [
    "X_2_test=np.array(X_vec_mean_test)\n",
    "X_2=np.array(X_vec_mean_train)\n",
    "\n",
    "X_1=np.array(X)\n",
    "X_1_test=np.array(X_test)\n",
    "print(X_1.shape)\n",
    "print(X_2.shape)\n"
   ]
  },
  {
   "cell_type": "code",
   "execution_count": 60,
   "id": "fa96f609-bbc0-42e8-9875-e58e18bd7739",
   "metadata": {},
   "outputs": [
    {
     "name": "stdout",
     "output_type": "stream",
     "text": [
      "(5100, 6983)\n",
      "(1000, 6983)\n"
     ]
    }
   ],
   "source": [
    "#horizontally stacking to combine all the features created.\n",
    "X_train_comb = np.hstack((X_1,X_2))\n",
    "X_test_comb = np.hstack((X_1_test,X_2_test))\n",
    "#X_test_comb = np.hstack((X_test, X_test_new))\n",
    "print(X_train_comb.shape)\n",
    "print(X_test_comb.shape)"
   ]
  },
  {
   "cell_type": "code",
   "execution_count": 61,
   "id": "38058d15-dc81-4dd6-ad37-1907b2553440",
   "metadata": {},
   "outputs": [],
   "source": [
    "gb2,gnb_pred_vec_test_comb,gnb_pred_vec_train_comb=GaussianNB_predict(X_train_comb,X_test_comb)"
   ]
  },
  {
   "cell_type": "code",
   "execution_count": 62,
   "id": "e801058c-86d5-4f78-8e66-e4fe45229118",
   "metadata": {},
   "outputs": [
    {
     "name": "stdout",
     "output_type": "stream",
     "text": [
      "Accuracy of test data: 0.456\n",
      "Accuracy of train data: 0.447\n",
      "Precision of test data: 0.390\n",
      "Recall of test data: 0.972\n",
      "f1_score of test data: 0.557\n"
     ]
    }
   ],
   "source": [
    "#evaluation of the new model\n",
    "#precision and accuracy are low, but f1_score indicates that overfitting does not occur anymore.\n",
    "evaluate_metrics(y,y_test,gnb_pred_vec_train_comb,gnb_pred_vec_test_comb)"
   ]
  },
  {
   "cell_type": "raw",
   "id": "2e2ecdc2-7e13-4d12-a9d0-84dc1ba57cb0",
   "metadata": {},
   "source": [
    "The final input to the model has 6924 features that is 300 more than the initial features passed to the model. Perhaps the bias is more towards the tf-idf model in this case. The metric has improved and will be giving better for a different set of data than the original tf-idf model as that was severely overfitting and could not successfully generalize the classification."
   ]
  },
  {
   "cell_type": "code",
   "execution_count": null,
   "id": "74f29ced-e947-41b3-916c-c15494506231",
   "metadata": {},
   "outputs": [],
   "source": []
  }
 ],
 "metadata": {
  "kernelspec": {
   "display_name": "Python 3",
   "language": "python",
   "name": "python3"
  },
  "language_info": {
   "codemirror_mode": {
    "name": "ipython",
    "version": 3
   },
   "file_extension": ".py",
   "mimetype": "text/x-python",
   "name": "python",
   "nbconvert_exporter": "python",
   "pygments_lexer": "ipython3",
   "version": "3.8.8"
  }
 },
 "nbformat": 4,
 "nbformat_minor": 5
}
